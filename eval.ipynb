{
 "cells": [
  {
   "cell_type": "code",
   "execution_count": 2,
   "metadata": {},
   "outputs": [],
   "source": [
    "import torch\n",
    "import torch.nn.functional as F\n",
    "\n",
    "from models.lm import load_model\n",
    "\n",
    "from eval import eval_hashhop, eval_copy\n",
    "\n",
    "from hashhop.hashhop import HashHopSampler, hh_to_string"
   ]
  },
  {
   "cell_type": "code",
   "execution_count": 5,
   "metadata": {},
   "outputs": [],
   "source": [
    "model = load_model(\"runs/fiery-violet-5\", \"cuda\")\n",
    "model_generate = model.setup_generation(sample=True)"
   ]
  },
  {
   "cell_type": "code",
   "execution_count": 15,
   "metadata": {},
   "outputs": [
    {
     "data": {
      "text/plain": [
       "0.986328125"
      ]
     },
     "execution_count": 15,
     "metadata": {},
     "output_type": "execute_result"
    }
   ],
   "source": [
    "success = eval_hashhop(model_generate, hops=None, n_tasks=2048, batch_size=256, max_tokens=256, max_hops=2, cot=True, hash_len=8, vocab_size=52, verbose=False)\n",
    "success"
   ]
  },
  {
   "cell_type": "code",
   "execution_count": null,
   "metadata": {},
   "outputs": [],
   "source": []
  },
  {
   "cell_type": "code",
   "execution_count": null,
   "metadata": {},
   "outputs": [],
   "source": []
  },
  {
   "cell_type": "code",
   "execution_count": 30,
   "metadata": {},
   "outputs": [],
   "source": [
    "model = load_model(\"runs/bumbling-haze-20\", \"cuda\")\n",
    "model_generate = model.setup_generation(sample=False)"
   ]
  },
  {
   "cell_type": "code",
   "execution_count": 31,
   "metadata": {},
   "outputs": [
    {
     "data": {
      "text/plain": [
       "0.0390625"
      ]
     },
     "execution_count": 31,
     "metadata": {},
     "output_type": "execute_result"
    }
   ],
   "source": [
    "success = eval_copy(model_generate, n_tasks=256, batch_size=256, max_tokens=512, vocab_size=52, verbose=False)\n",
    "success"
   ]
  },
  {
   "cell_type": "code",
   "execution_count": 32,
   "metadata": {},
   "outputs": [],
   "source": [
    "from copyy.copy import CopySampler, hh_to_string"
   ]
  },
  {
   "cell_type": "code",
   "execution_count": 33,
   "metadata": {},
   "outputs": [],
   "source": [
    "sampler = CopySampler(max_tokens=512)\n",
    "prompt, target = sampler.sample(1)"
   ]
  },
  {
   "cell_type": "code",
   "execution_count": 34,
   "metadata": {},
   "outputs": [
    {
     "data": {
      "text/plain": [
       "('xYgyCGgyRXacdtXpPiFSkCqxMuxjsGhsunwKDervPqiwZytbKEoFhYukXhTlNIDxfNjeZoUIAWrAlJdzfyFfXMbjgYGfTbASxMrkJXrHoEdUicVEzbHKNRbPTITYkDYLNegqivhlJYhbaFKsdJiDfNQwAjVaKDDJkGYgeSpWBXUktdIEurGCLuVKxkjlDXWevQNiqyKrMlZrzqlBxOnCCuZeClievZRizNblftATVkwRTHoroRjKSWJIAZlvlSO>',\n",
       " 'xYgyCGgyRXacdtXpPiFSkCqxMuxjsGhsunwKDervPqiwZytbKEoFhYukXhTlNIDxfNjeZoUIAWrAlJdzfyFfXMbjgYGfTbASxMrkJXrHoEdUicVEzbHKNRbPTITYkDYLNegqivhlJYhbaFKsdJiDfNQwAjVaKDDJkGYgeSpWBXUktdIEurGCLuVKxkjlDXWevQNiqyKrMlZrzqlBxOnCCuZeClievZRizNblftATVkwRTHoroRjKSWJIAZlvlSO')"
      ]
     },
     "execution_count": 34,
     "metadata": {},
     "output_type": "execute_result"
    }
   ],
   "source": [
    "hh_to_string(prompt[0]), hh_to_string(target[0])"
   ]
  },
  {
   "cell_type": "code",
   "execution_count": 35,
   "metadata": {},
   "outputs": [
    {
     "data": {
      "text/plain": [
       "'xYgyCGgyRXacdtXpPiFSkCqxMuxjsGhsunwKDervPqiwwZytbKEoFhYukXhTlNIDxfNjeZUIAWrAlJdzfyFfXMbjgYGfTbASxMrkJXrHoEdUicVEzbHKNRbPTITYkDYLNegqivhlJYhbaFKsdJiDfNQwAjVaKDDJkGYgeSpWBXUktdIEurGCLuVKxkjlDXWevQNiqyKrMlZrzqlBxOnCCuZeClievZRizNblftATVkwRTHoroRjKSWJIAZlvlSO'"
      ]
     },
     "execution_count": 35,
     "metadata": {},
     "output_type": "execute_result"
    }
   ],
   "source": [
    "hh_to_string(model_generate(prompt, len(target[0]))[0])"
   ]
  },
  {
   "cell_type": "code",
   "execution_count": null,
   "metadata": {},
   "outputs": [],
   "source": []
  }
 ],
 "metadata": {
  "kernelspec": {
   "display_name": "Python 3",
   "language": "python",
   "name": "python3"
  },
  "language_info": {
   "codemirror_mode": {
    "name": "ipython",
    "version": 3
   },
   "file_extension": ".py",
   "mimetype": "text/x-python",
   "name": "python",
   "nbconvert_exporter": "python",
   "pygments_lexer": "ipython3",
   "version": "3.10.12"
  }
 },
 "nbformat": 4,
 "nbformat_minor": 2
}
