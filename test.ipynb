{
 "cells": [
  {
   "cell_type": "code",
   "execution_count": 13,
   "metadata": {},
   "outputs": [],
   "source": [
    "from hashhop.generate import MultiHopEval"
   ]
  },
  {
   "cell_type": "code",
   "execution_count": 18,
   "metadata": {},
   "outputs": [
    {
     "name": "stdout",
     "output_type": "stream",
     "text": [
      "3\n"
     ]
    }
   ],
   "source": [
    "datapoint = MultiHopEval.make_one(\n",
    "    n_chars_problem=100,\n",
    "    num_queries=2,\n",
    "    hops=2,\n",
    "    hash_pair_str_length=8,\n",
    "    chain_of_thought=True,\n",
    ")"
   ]
  },
  {
   "cell_type": "code",
   "execution_count": 19,
   "metadata": {},
   "outputs": [
    {
     "data": {
      "text/plain": [
       "125"
      ]
     },
     "execution_count": 19,
     "metadata": {},
     "output_type": "execute_result"
    }
   ],
   "source": [
    "len(datapoint.prompt)"
   ]
  },
  {
   "cell_type": "code",
   "execution_count": 20,
   "metadata": {},
   "outputs": [
    {
     "name": "stdout",
     "output_type": "stream",
     "text": [
      "AFrxkqfj = JIYvEYdA\n",
      "SSfeWGnE = tsdebCzv\n",
      "KwDmeNsN = ZrcNaDka\n",
      "tsdebCzv = 'LjdsqCXN'\n",
      "JIYvEYdA = 'ADWMHciL'\n",
      "ZrcNaDka = 'qoTVBdeq'\n"
     ]
    }
   ],
   "source": [
    "print(datapoint.prompt)"
   ]
  },
  {
   "cell_type": "code",
   "execution_count": 21,
   "metadata": {},
   "outputs": [
    {
     "name": "stdout",
     "output_type": "stream",
     "text": [
      "COMPLETION:\n",
      "Hops=2\n",
      "\n",
      "CoT=True\n",
      "\n",
      "KwDmeNsN = 'ZrcNaDka = qoTVBdeq'\n",
      "SSfeWGnE = 'tsdebCzv = LjdsqCXN'\n",
      "\n"
     ]
    }
   ],
   "source": [
    "print(datapoint.completion)"
   ]
  },
  {
   "cell_type": "code",
   "execution_count": 6,
   "metadata": {},
   "outputs": [
    {
     "name": "stdout",
     "output_type": "stream",
     "text": [
      "{'Feibrmpt': 'RJPYIrAN = kAhIcqEO', 'HTVRobJh': 'bukcjkRh = vGrHamRa', 'rvRdAUjy': 'EBlouJPM = HUpdUunC'}\n"
     ]
    }
   ],
   "source": [
    "print(datapoint.targets)"
   ]
  },
  {
   "cell_type": "code",
   "execution_count": null,
   "metadata": {},
   "outputs": [],
   "source": []
  },
  {
   "cell_type": "code",
   "execution_count": null,
   "metadata": {},
   "outputs": [],
   "source": []
  },
  {
   "cell_type": "code",
   "execution_count": null,
   "metadata": {},
   "outputs": [],
   "source": []
  },
  {
   "cell_type": "code",
   "execution_count": 1,
   "metadata": {},
   "outputs": [],
   "source": [
    "import torch"
   ]
  },
  {
   "cell_type": "code",
   "execution_count": 6,
   "metadata": {},
   "outputs": [
    {
     "data": {
      "text/plain": [
       "tensor([[[  9,  12, 113, 111,  29,  91,   4,   0,  29, 103],\n",
       "         [ 47,  47,  14,  22,  41,  14,  94, 112,  47,  30]],\n",
       "\n",
       "        [[ 58,  17,  81,  57,  91,  58,  31,  56,   0,  86],\n",
       "         [ 67, 106,  41, 127,  71, 118,  65,  53,  19,  62]],\n",
       "\n",
       "        [[ 84, 112,  18,  98,  27,  73, 100,  31,   0,  62],\n",
       "         [ 66, 116,  59,  52,  46,  14,  13,  84, 103,  40]]])"
      ]
     },
     "execution_count": 6,
     "metadata": {},
     "output_type": "execute_result"
    }
   ],
   "source": [
    "torch.randint(low=0, high=128, size=(3, 2, 10))"
   ]
  },
  {
   "cell_type": "code",
   "execution_count": null,
   "metadata": {},
   "outputs": [],
   "source": []
  },
  {
   "cell_type": "code",
   "execution_count": null,
   "metadata": {},
   "outputs": [],
   "source": []
  },
  {
   "cell_type": "code",
   "execution_count": null,
   "metadata": {},
   "outputs": [],
   "source": [
    "def _make_levels(n_chains: int, hops: int, string_length: int) -> List[Dict[str, str]]:\n",
    "    levels = [\n",
    "        {\n",
    "            make_random_string(length=string_length): make_random_string(length=string_length)\n",
    "            for _ in range(n_chains)\n",
    "        }\n",
    "    ]\n",
    "    for _ in range(hops - 1):\n",
    "        levels.append(\n",
    "            {v: make_random_string(length=string_length) for v in levels[-1].values()}\n",
    "        )\n",
    "    return levels"
   ]
  },
  {
   "cell_type": "code",
   "execution_count": null,
   "metadata": {},
   "outputs": [],
   "source": []
  },
  {
   "cell_type": "code",
   "execution_count": 1,
   "metadata": {},
   "outputs": [],
   "source": [
    "import torch"
   ]
  },
  {
   "cell_type": "code",
   "execution_count": 2,
   "metadata": {},
   "outputs": [
    {
     "data": {
      "text/plain": [
       "tensor([[100,  51,  21],\n",
       "        [ 98,  83,  44],\n",
       "        [ 57, 107,  23],\n",
       "        [110,  48,  49],\n",
       "        [ 54,  43,  60],\n",
       "        [ 72,   3,  33],\n",
       "        [117, 122,  74],\n",
       "        [ 23,  11, 113],\n",
       "        [ 29,  75,  82]])"
      ]
     },
     "execution_count": 2,
     "metadata": {},
     "output_type": "execute_result"
    }
   ],
   "source": [
    "hashes = torch.randint(low=0, high=128, size=(10, 3))\n",
    "hashes[:-1, :]"
   ]
  },
  {
   "cell_type": "code",
   "execution_count": 3,
   "metadata": {},
   "outputs": [
    {
     "data": {
      "text/plain": [
       "tensor([[ 98,  83,  44],\n",
       "        [ 57, 107,  23],\n",
       "        [110,  48,  49],\n",
       "        [ 54,  43,  60],\n",
       "        [ 72,   3,  33],\n",
       "        [117, 122,  74],\n",
       "        [ 23,  11, 113],\n",
       "        [ 29,  75,  82],\n",
       "        [ 18,  58,  88]])"
      ]
     },
     "execution_count": 3,
     "metadata": {},
     "output_type": "execute_result"
    }
   ],
   "source": [
    "hashes[1:, :]"
   ]
  },
  {
   "cell_type": "code",
   "execution_count": 4,
   "metadata": {},
   "outputs": [
    {
     "data": {
      "text/plain": [
       "tensor([[100,  51,  21,   0,  98,  83,  44,   1],\n",
       "        [ 98,  83,  44,   0,  57, 107,  23,   1],\n",
       "        [ 57, 107,  23,   0, 110,  48,  49,   1],\n",
       "        [110,  48,  49,   0,  54,  43,  60,   1],\n",
       "        [ 54,  43,  60,   0,  72,   3,  33,   1],\n",
       "        [ 72,   3,  33,   0, 117, 122,  74,   1],\n",
       "        [117, 122,  74,   0,  23,  11, 113,   1],\n",
       "        [ 23,  11, 113,   0,  29,  75,  82,   1],\n",
       "        [ 29,  75,  82,   0,  18,  58,  88,   1]])"
      ]
     },
     "execution_count": 4,
     "metadata": {},
     "output_type": "execute_result"
    }
   ],
   "source": [
    "A = torch.cat([hashes[:-1, :], torch.zeros(9, 1, dtype=torch.long), hashes[1:, :], torch.ones(9, 1, dtype=torch.long)], dim=1)\n",
    "A"
   ]
  },
  {
   "cell_type": "code",
   "execution_count": 6,
   "metadata": {},
   "outputs": [
    {
     "data": {
      "text/plain": [
       "tensor([100,  51,  21,   0,  98,  83,  44,   1,  98,  83,  44,   0,  57, 107,\n",
       "         23,   1,  57, 107,  23,   0, 110,  48,  49,   1, 110,  48,  49,   0,\n",
       "         54,  43,  60,   1,  54,  43,  60,   0,  72,   3,  33,   1,  72,   3,\n",
       "         33,   0, 117, 122,  74,   1, 117, 122,  74,   0,  23,  11, 113,   1,\n",
       "         23,  11, 113,   0,  29,  75,  82,   1,  29,  75,  82,   0,  18,  58,\n",
       "         88,   1])"
      ]
     },
     "execution_count": 6,
     "metadata": {},
     "output_type": "execute_result"
    }
   ],
   "source": [
    "A.flatten()"
   ]
  },
  {
   "cell_type": "code",
   "execution_count": null,
   "metadata": {},
   "outputs": [],
   "source": []
  },
  {
   "cell_type": "code",
   "execution_count": null,
   "metadata": {},
   "outputs": [],
   "source": []
  },
  {
   "cell_type": "code",
   "execution_count": 1,
   "metadata": {},
   "outputs": [],
   "source": [
    "import string\n",
    "import torch\n",
    "\n",
    "from hashhop.hashhop import HashHop, hh_to_string"
   ]
  },
  {
   "cell_type": "code",
   "execution_count": 2,
   "metadata": {},
   "outputs": [],
   "source": [
    "hh = HashHop(max_tokens=100, hash_len=8, n_hops=2, cot=True)"
   ]
  },
  {
   "cell_type": "code",
   "execution_count": 4,
   "metadata": {},
   "outputs": [
    {
     "name": "stdout",
     "output_type": "stream",
     "text": [
      "original hashes:\n",
      "LUJUTKUV=HTsMEsSl\n",
      "HTsMEsSl=nvPhOAUJ\n",
      "dVzodGPi=SjFznhZg\n",
      "SjFznhZg=WDOVXyWe\n",
      "\n",
      "shuffling\n",
      "LUJUTKUV=HTsMEsSl\n",
      "SjFznhZg=WDOVXyWe\n",
      "dVzodGPi=SjFznhZg\n",
      "HTsMEsSl=nvPhOAUJ\n",
      "\n",
      "chain to find:\n",
      "LUJUTKUV=HTsMEsSl=nvPhOAUJ\n"
     ]
    }
   ],
   "source": [
    "A, B = hh.sample(4)"
   ]
  },
  {
   "cell_type": "code",
   "execution_count": null,
   "metadata": {},
   "outputs": [],
   "source": []
  },
  {
   "cell_type": "code",
   "execution_count": null,
   "metadata": {},
   "outputs": [],
   "source": []
  },
  {
   "cell_type": "code",
   "execution_count": 13,
   "metadata": {},
   "outputs": [
    {
     "data": {
      "text/plain": [
       "100"
      ]
     },
     "execution_count": 13,
     "metadata": {},
     "output_type": "execute_result"
    }
   ],
   "source": [
    "len(tensor_to_string(hh.sample(2)[0]))"
   ]
  },
  {
   "cell_type": "code",
   "execution_count": 10,
   "metadata": {},
   "outputs": [
    {
     "data": {
      "text/plain": [
       "tensor([[9, 6, 9],\n",
       "        [3, 7, 1],\n",
       "        [9, 4, 5],\n",
       "        [7, 3, 2],\n",
       "        [0, 3, 6],\n",
       "        [0, 6, 7],\n",
       "        [3, 5, 1],\n",
       "        [4, 1, 5],\n",
       "        [0, 8, 7],\n",
       "        [2, 0, 6]])"
      ]
     },
     "execution_count": 10,
     "metadata": {},
     "output_type": "execute_result"
    }
   ],
   "source": [
    "hashes = torch.randint(low=0, high=10, size=(10, 3), )\n",
    "hashes"
   ]
  },
  {
   "cell_type": "code",
   "execution_count": null,
   "metadata": {},
   "outputs": [],
   "source": []
  }
 ],
 "metadata": {
  "kernelspec": {
   "display_name": "torch23",
   "language": "python",
   "name": "python3"
  },
  "language_info": {
   "codemirror_mode": {
    "name": "ipython",
    "version": 3
   },
   "file_extension": ".py",
   "mimetype": "text/x-python",
   "name": "python",
   "nbconvert_exporter": "python",
   "pygments_lexer": "ipython3",
   "version": "3.12.2"
  }
 },
 "nbformat": 4,
 "nbformat_minor": 2
}
