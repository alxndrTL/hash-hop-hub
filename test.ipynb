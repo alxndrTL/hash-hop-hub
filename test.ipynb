{
 "cells": [
  {
   "cell_type": "code",
   "execution_count": 4,
   "metadata": {},
   "outputs": [],
   "source": [
    "from hashhop.generate import MultiHopEval"
   ]
  },
  {
   "cell_type": "code",
   "execution_count": 5,
   "metadata": {},
   "outputs": [
    {
     "name": "stdout",
     "output_type": "stream",
     "text": [
      "3\n"
     ]
    }
   ],
   "source": [
    "datapoint = MultiHopEval.make_one(\n",
    "    n_chars_problem=100,\n",
    "    num_queries=2,\n",
    "    hops=2,\n",
    "    hash_pair_str_length=8,\n",
    "    chain_of_thought=True,\n",
    ")"
   ]
  },
  {
   "cell_type": "code",
   "execution_count": 6,
   "metadata": {},
   "outputs": [
    {
     "data": {
      "text/plain": [
       "125"
      ]
     },
     "execution_count": 6,
     "metadata": {},
     "output_type": "execute_result"
    }
   ],
   "source": [
    "len(datapoint.prompt)"
   ]
  },
  {
   "cell_type": "code",
   "execution_count": 7,
   "metadata": {},
   "outputs": [
    {
     "name": "stdout",
     "output_type": "stream",
     "text": [
      "AANeqmRt = 'OluYZuQK'\n",
      "ACaSKIzJ = 'VYEIkmIN'\n",
      "HGnXYZpJ = ajRhlHyD\n",
      "mkhIDgHV = ACaSKIzJ\n",
      "ajRhlHyD = 'XIwlnQDq'\n",
      "EByCJiOx = AANeqmRt\n"
     ]
    }
   ],
   "source": [
    "print(datapoint.prompt)"
   ]
  },
  {
   "cell_type": "code",
   "execution_count": 8,
   "metadata": {},
   "outputs": [
    {
     "name": "stdout",
     "output_type": "stream",
     "text": [
      "COMPLETION:\n",
      "Hops=2\n",
      "\n",
      "CoT=True\n",
      "\n",
      "mkhIDgHV = 'ACaSKIzJ = VYEIkmIN'\n",
      "EByCJiOx = 'AANeqmRt = OluYZuQK'\n",
      "\n"
     ]
    }
   ],
   "source": [
    "print(datapoint.completion)"
   ]
  },
  {
   "cell_type": "code",
   "execution_count": 9,
   "metadata": {},
   "outputs": [
    {
     "name": "stdout",
     "output_type": "stream",
     "text": [
      "{'mkhIDgHV': 'ACaSKIzJ = VYEIkmIN', 'EByCJiOx': 'AANeqmRt = OluYZuQK', 'HGnXYZpJ': 'ajRhlHyD = XIwlnQDq'}\n"
     ]
    }
   ],
   "source": [
    "print(datapoint.targets)"
   ]
  },
  {
   "cell_type": "code",
   "execution_count": null,
   "metadata": {},
   "outputs": [],
   "source": []
  },
  {
   "cell_type": "code",
   "execution_count": null,
   "metadata": {},
   "outputs": [],
   "source": []
  },
  {
   "cell_type": "code",
   "execution_count": null,
   "metadata": {},
   "outputs": [],
   "source": []
  },
  {
   "cell_type": "code",
   "execution_count": 10,
   "metadata": {},
   "outputs": [],
   "source": [
    "import torch"
   ]
  },
  {
   "cell_type": "code",
   "execution_count": 11,
   "metadata": {},
   "outputs": [
    {
     "data": {
      "text/plain": [
       "tensor([[[ 76,  95, 118,  56,  58,  36,  99,   3,  74,  83],\n",
       "         [115,  55,  11, 103,  20,  35,  46, 116,  86, 121]],\n",
       "\n",
       "        [[ 90,  14,  49, 117, 119,  34, 114,  43, 109,  21],\n",
       "         [ 59,  18,  24,  64,  50, 102,  33,  61,  95,  73]],\n",
       "\n",
       "        [[  9,  11, 119,  74,  77,  87,  14,  76,  63,  99],\n",
       "         [ 73,  35,  76,  14, 111,  80, 124,  49,  38, 114]]])"
      ]
     },
     "execution_count": 11,
     "metadata": {},
     "output_type": "execute_result"
    }
   ],
   "source": [
    "torch.randint(low=0, high=128, size=(3, 2, 10))"
   ]
  },
  {
   "cell_type": "code",
   "execution_count": null,
   "metadata": {},
   "outputs": [],
   "source": []
  },
  {
   "cell_type": "code",
   "execution_count": null,
   "metadata": {},
   "outputs": [],
   "source": []
  },
  {
   "cell_type": "code",
   "execution_count": 12,
   "metadata": {},
   "outputs": [
    {
     "ename": "NameError",
     "evalue": "name 'List' is not defined",
     "output_type": "error",
     "traceback": [
      "\u001b[0;31m---------------------------------------------------------------------------\u001b[0m",
      "\u001b[0;31mNameError\u001b[0m                                 Traceback (most recent call last)",
      "Cell \u001b[0;32mIn[12], line 1\u001b[0m\n\u001b[0;32m----> 1\u001b[0m \u001b[38;5;28;01mdef\u001b[39;00m \u001b[38;5;21m_make_levels\u001b[39m(n_chains: \u001b[38;5;28mint\u001b[39m, hops: \u001b[38;5;28mint\u001b[39m, string_length: \u001b[38;5;28mint\u001b[39m) \u001b[38;5;241m-\u001b[39m\u001b[38;5;241m>\u001b[39m \u001b[43mList\u001b[49m[Dict[\u001b[38;5;28mstr\u001b[39m, \u001b[38;5;28mstr\u001b[39m]]:\n\u001b[1;32m      2\u001b[0m     levels \u001b[38;5;241m=\u001b[39m [\n\u001b[1;32m      3\u001b[0m         {\n\u001b[1;32m      4\u001b[0m             make_random_string(length\u001b[38;5;241m=\u001b[39mstring_length): make_random_string(length\u001b[38;5;241m=\u001b[39mstring_length)\n\u001b[1;32m      5\u001b[0m             \u001b[38;5;28;01mfor\u001b[39;00m _ \u001b[38;5;129;01min\u001b[39;00m \u001b[38;5;28mrange\u001b[39m(n_chains)\n\u001b[1;32m      6\u001b[0m         }\n\u001b[1;32m      7\u001b[0m     ]\n\u001b[1;32m      8\u001b[0m     \u001b[38;5;28;01mfor\u001b[39;00m _ \u001b[38;5;129;01min\u001b[39;00m \u001b[38;5;28mrange\u001b[39m(hops \u001b[38;5;241m-\u001b[39m \u001b[38;5;241m1\u001b[39m):\n",
      "\u001b[0;31mNameError\u001b[0m: name 'List' is not defined"
     ]
    }
   ],
   "source": [
    "def _make_levels(n_chains: int, hops: int, string_length: int) -> List[Dict[str, str]]:\n",
    "    levels = [\n",
    "        {\n",
    "            make_random_string(length=string_length): make_random_string(length=string_length)\n",
    "            for _ in range(n_chains)\n",
    "        }\n",
    "    ]\n",
    "    for _ in range(hops - 1):\n",
    "        levels.append(\n",
    "            {v: make_random_string(length=string_length) for v in levels[-1].values()}\n",
    "        )\n",
    "    return levels"
   ]
  },
  {
   "cell_type": "code",
   "execution_count": null,
   "metadata": {},
   "outputs": [],
   "source": []
  },
  {
   "cell_type": "code",
   "execution_count": null,
   "metadata": {},
   "outputs": [],
   "source": [
    "import torch"
   ]
  },
  {
   "cell_type": "code",
   "execution_count": null,
   "metadata": {},
   "outputs": [
    {
     "data": {
      "text/plain": [
       "tensor([[100,  51,  21],\n",
       "        [ 98,  83,  44],\n",
       "        [ 57, 107,  23],\n",
       "        [110,  48,  49],\n",
       "        [ 54,  43,  60],\n",
       "        [ 72,   3,  33],\n",
       "        [117, 122,  74],\n",
       "        [ 23,  11, 113],\n",
       "        [ 29,  75,  82]])"
      ]
     },
     "execution_count": 2,
     "metadata": {},
     "output_type": "execute_result"
    }
   ],
   "source": [
    "hashes = torch.randint(low=0, high=128, size=(10, 3))\n",
    "hashes[:-1, :]"
   ]
  },
  {
   "cell_type": "code",
   "execution_count": null,
   "metadata": {},
   "outputs": [
    {
     "data": {
      "text/plain": [
       "tensor([[ 98,  83,  44],\n",
       "        [ 57, 107,  23],\n",
       "        [110,  48,  49],\n",
       "        [ 54,  43,  60],\n",
       "        [ 72,   3,  33],\n",
       "        [117, 122,  74],\n",
       "        [ 23,  11, 113],\n",
       "        [ 29,  75,  82],\n",
       "        [ 18,  58,  88]])"
      ]
     },
     "execution_count": 3,
     "metadata": {},
     "output_type": "execute_result"
    }
   ],
   "source": [
    "hashes[1:, :]"
   ]
  },
  {
   "cell_type": "code",
   "execution_count": null,
   "metadata": {},
   "outputs": [
    {
     "data": {
      "text/plain": [
       "tensor([[100,  51,  21,   0,  98,  83,  44,   1],\n",
       "        [ 98,  83,  44,   0,  57, 107,  23,   1],\n",
       "        [ 57, 107,  23,   0, 110,  48,  49,   1],\n",
       "        [110,  48,  49,   0,  54,  43,  60,   1],\n",
       "        [ 54,  43,  60,   0,  72,   3,  33,   1],\n",
       "        [ 72,   3,  33,   0, 117, 122,  74,   1],\n",
       "        [117, 122,  74,   0,  23,  11, 113,   1],\n",
       "        [ 23,  11, 113,   0,  29,  75,  82,   1],\n",
       "        [ 29,  75,  82,   0,  18,  58,  88,   1]])"
      ]
     },
     "execution_count": 4,
     "metadata": {},
     "output_type": "execute_result"
    }
   ],
   "source": [
    "A = torch.cat([hashes[:-1, :], torch.zeros(9, 1, dtype=torch.long), hashes[1:, :], torch.ones(9, 1, dtype=torch.long)], dim=1)\n",
    "A"
   ]
  },
  {
   "cell_type": "code",
   "execution_count": null,
   "metadata": {},
   "outputs": [
    {
     "data": {
      "text/plain": [
       "tensor([100,  51,  21,   0,  98,  83,  44,   1,  98,  83,  44,   0,  57, 107,\n",
       "         23,   1,  57, 107,  23,   0, 110,  48,  49,   1, 110,  48,  49,   0,\n",
       "         54,  43,  60,   1,  54,  43,  60,   0,  72,   3,  33,   1,  72,   3,\n",
       "         33,   0, 117, 122,  74,   1, 117, 122,  74,   0,  23,  11, 113,   1,\n",
       "         23,  11, 113,   0,  29,  75,  82,   1,  29,  75,  82,   0,  18,  58,\n",
       "         88,   1])"
      ]
     },
     "execution_count": 6,
     "metadata": {},
     "output_type": "execute_result"
    }
   ],
   "source": [
    "A.flatten()"
   ]
  },
  {
   "cell_type": "code",
   "execution_count": null,
   "metadata": {},
   "outputs": [],
   "source": []
  },
  {
   "cell_type": "code",
   "execution_count": null,
   "metadata": {},
   "outputs": [],
   "source": []
  },
  {
   "cell_type": "code",
   "execution_count": 7,
   "metadata": {},
   "outputs": [],
   "source": [
    "import string\n",
    "import torch\n",
    "\n",
    "from hashhop.hashhop import HashHopSampler, hh_to_string"
   ]
  },
  {
   "cell_type": "code",
   "execution_count": 28,
   "metadata": {},
   "outputs": [],
   "source": [
    "hh = HashHopSampler(max_tokens=3_000, hash_len=8, max_hops=4, cot=False)"
   ]
  },
  {
   "cell_type": "code",
   "execution_count": 29,
   "metadata": {},
   "outputs": [],
   "source": [
    "A, B = hh.sample(512, verbose=False)"
   ]
  },
  {
   "cell_type": "code",
   "execution_count": 32,
   "metadata": {},
   "outputs": [
    {
     "data": {
      "text/plain": [
       "2969"
      ]
     },
     "execution_count": 32,
     "metadata": {},
     "output_type": "execute_result"
    }
   ],
   "source": [
    "A.shape[1]+B.shape[1]"
   ]
  },
  {
   "cell_type": "code",
   "execution_count": 33,
   "metadata": {},
   "outputs": [
    {
     "data": {
      "text/plain": [
       "torch.Size([512, 2952])"
      ]
     },
     "execution_count": 33,
     "metadata": {},
     "output_type": "execute_result"
    }
   ],
   "source": [
    "A.shape"
   ]
  },
  {
   "cell_type": "code",
   "execution_count": 34,
   "metadata": {},
   "outputs": [
    {
     "data": {
      "text/plain": [
       "torch.Size([512, 17])"
      ]
     },
     "execution_count": 34,
     "metadata": {},
     "output_type": "execute_result"
    }
   ],
   "source": [
    "B.shape"
   ]
  },
  {
   "cell_type": "code",
   "execution_count": 36,
   "metadata": {},
   "outputs": [
    {
     "data": {
      "text/plain": [
       "torch.Size([512, 2969])"
      ]
     },
     "execution_count": 36,
     "metadata": {},
     "output_type": "execute_result"
    }
   ],
   "source": [
    "torch.cat([A, B], dim=1).shape"
   ]
  },
  {
   "cell_type": "code",
   "execution_count": null,
   "metadata": {},
   "outputs": [],
   "source": []
  },
  {
   "cell_type": "code",
   "execution_count": null,
   "metadata": {},
   "outputs": [],
   "source": []
  },
  {
   "cell_type": "code",
   "execution_count": null,
   "metadata": {},
   "outputs": [],
   "source": [
    "N = torch.tensor([3, 5, 2, 7, 4])\n",
    "result = torch.zeros((5, 10), dtype=torch.int32)\n",
    "column_indices = torch.arange(10).unsqueeze(0).expand(5, 10)\n",
    "mask = column_indices < N.unsqueeze(1)\n",
    "result[mask] = 1"
   ]
  },
  {
   "cell_type": "code",
   "execution_count": null,
   "metadata": {},
   "outputs": [
    {
     "data": {
      "text/plain": [
       "tensor([[1, 1, 1, 0, 0, 0, 0, 0, 0, 0],\n",
       "        [1, 1, 1, 1, 1, 0, 0, 0, 0, 0],\n",
       "        [1, 1, 0, 0, 0, 0, 0, 0, 0, 0],\n",
       "        [1, 1, 1, 1, 1, 1, 1, 0, 0, 0],\n",
       "        [1, 1, 1, 1, 0, 0, 0, 0, 0, 0]], dtype=torch.int32)"
      ]
     },
     "execution_count": 10,
     "metadata": {},
     "output_type": "execute_result"
    }
   ],
   "source": [
    "result"
   ]
  },
  {
   "cell_type": "code",
   "execution_count": null,
   "metadata": {},
   "outputs": [],
   "source": []
  },
  {
   "cell_type": "code",
   "execution_count": null,
   "metadata": {},
   "outputs": [],
   "source": []
  },
  {
   "cell_type": "code",
   "execution_count": null,
   "metadata": {},
   "outputs": [
    {
     "ename": "NameError",
     "evalue": "name 'A' is not defined",
     "output_type": "error",
     "traceback": [
      "\u001b[0;31m---------------------------------------------------------------------------\u001b[0m",
      "\u001b[0;31mNameError\u001b[0m                                 Traceback (most recent call last)",
      "Cell \u001b[0;32mIn[5], line 1\u001b[0m\n\u001b[0;32m----> 1\u001b[0m \u001b[38;5;28mlen\u001b[39m(\u001b[43mA\u001b[49m[\u001b[38;5;241m0\u001b[39m])\n",
      "\u001b[0;31mNameError\u001b[0m: name 'A' is not defined"
     ]
    }
   ],
   "source": [
    "len(A[0])"
   ]
  },
  {
   "cell_type": "code",
   "execution_count": null,
   "metadata": {},
   "outputs": [],
   "source": []
  },
  {
   "cell_type": "code",
   "execution_count": null,
   "metadata": {},
   "outputs": [
    {
     "data": {
      "text/plain": [
       "(tensor([[8, 2, 0, 8, 7, 6, 3, 6, 8, 6],\n",
       "         [5, 3, 2, 0, 0, 7, 6, 2, 0, 9],\n",
       "         [0, 8, 3, 9, 5, 7, 4, 2, 7, 3],\n",
       "         [2, 6, 9, 0, 7, 1, 3, 9, 7, 5],\n",
       "         [8, 0, 6, 1, 0, 2, 8, 2, 3, 8]]),\n",
       " tensor([4, 2, 4, 4, 3]))"
      ]
     },
     "execution_count": 94,
     "metadata": {},
     "output_type": "execute_result"
    }
   ],
   "source": [
    "A = torch.randint(low=0, high=10, size=(5, 10))\n",
    "N = torch.randint(low=2, high=5, size=(5,))\n",
    "\n",
    "A, N"
   ]
  },
  {
   "cell_type": "code",
   "execution_count": null,
   "metadata": {},
   "outputs": [
    {
     "data": {
      "text/plain": [
       "tensor([[False, False, False, False, False, False,  True,  True,  True,  True],\n",
       "        [False, False, False, False, False, False, False, False,  True,  True],\n",
       "        [False, False, False, False, False, False,  True,  True,  True,  True],\n",
       "        [False, False, False, False, False, False,  True,  True,  True,  True],\n",
       "        [False, False, False, False, False, False, False,  True,  True,  True]])"
      ]
     },
     "execution_count": 95,
     "metadata": {},
     "output_type": "execute_result"
    }
   ],
   "source": [
    "range_tensor = torch.arange(10).unsqueeze(0).expand(5, -1)\n",
    "mask = range_tensor >= (10 - N.unsqueeze(1))\n",
    "mask"
   ]
  },
  {
   "cell_type": "code",
   "execution_count": null,
   "metadata": {},
   "outputs": [
    {
     "data": {
      "text/plain": [
       "tensor([[8, 2, 0, 8, 7, 6, 3, 6, 8, 6],\n",
       "        [5, 3, 2, 0, 0, 7, 6, 2, 0, 9],\n",
       "        [0, 8, 3, 9, 5, 7, 4, 2, 7, 3],\n",
       "        [2, 6, 9, 0, 7, 1, 3, 9, 7, 5],\n",
       "        [8, 0, 6, 1, 0, 2, 8, 2, 3, 8]])"
      ]
     },
     "execution_count": 96,
     "metadata": {},
     "output_type": "execute_result"
    }
   ],
   "source": [
    "A"
   ]
  },
  {
   "cell_type": "code",
   "execution_count": null,
   "metadata": {},
   "outputs": [
    {
     "data": {
      "text/plain": [
       "tensor([[0, 0, 0, 0, 0, 0, 3, 6, 8, 6],\n",
       "        [0, 0, 0, 0, 0, 0, 0, 0, 0, 9],\n",
       "        [0, 0, 0, 0, 0, 0, 4, 2, 7, 3],\n",
       "        [0, 0, 0, 0, 0, 0, 3, 9, 7, 5],\n",
       "        [0, 0, 0, 0, 0, 0, 0, 2, 3, 8]])"
      ]
     },
     "execution_count": 97,
     "metadata": {},
     "output_type": "execute_result"
    }
   ],
   "source": [
    "B = A * mask # pas besoin de passer par B, on peut directement faire les ops sur A\n",
    "B"
   ]
  },
  {
   "cell_type": "code",
   "execution_count": null,
   "metadata": {},
   "outputs": [
    {
     "data": {
      "text/plain": [
       "(tensor([[8, 2, 0, 8, 7, 6, 3, 6, 8, 6],\n",
       "         [5, 3, 2, 0, 0, 7, 6, 2, 0, 9],\n",
       "         [0, 8, 3, 9, 5, 7, 4, 2, 7, 3],\n",
       "         [2, 6, 9, 0, 7, 1, 3, 9, 7, 5],\n",
       "         [8, 0, 6, 1, 0, 2, 8, 2, 3, 8]]),\n",
       " tensor([4, 2, 4, 4, 3]))"
      ]
     },
     "execution_count": 118,
     "metadata": {},
     "output_type": "execute_result"
    }
   ],
   "source": [
    "A, N"
   ]
  },
  {
   "cell_type": "code",
   "execution_count": null,
   "metadata": {},
   "outputs": [
    {
     "data": {
      "text/plain": [
       "tensor([[8, 2, 0, 8, 7, 6, 3, 6, 8, 6, 0, 0],\n",
       "        [5, 3, 2, 0, 0, 7, 6, 2, 0, 9, 0, 0],\n",
       "        [0, 8, 3, 9, 5, 7, 4, 2, 7, 3, 0, 0],\n",
       "        [2, 6, 9, 0, 7, 1, 3, 9, 7, 5, 0, 0],\n",
       "        [8, 0, 6, 1, 0, 2, 8, 2, 3, 8, 0, 0]])"
      ]
     },
     "execution_count": 122,
     "metadata": {},
     "output_type": "execute_result"
    }
   ],
   "source": [
    "# on pad\n",
    "C = torch.cat([A, torch.zeros(5, 2, dtype=torch.long)], dim=1) # 5 = bs, 2 = max(N)-min(N)\n",
    "C"
   ]
  },
  {
   "cell_type": "code",
   "execution_count": null,
   "metadata": {},
   "outputs": [],
   "source": [
    "cols = (10-N.unsqueeze(1)) + torch.arange(4)"
   ]
  },
  {
   "cell_type": "code",
   "execution_count": null,
   "metadata": {},
   "outputs": [
    {
     "data": {
      "text/plain": [
       "tensor([[3, 6, 8, 6],\n",
       "        [0, 9, 0, 0],\n",
       "        [4, 2, 7, 3],\n",
       "        [3, 9, 7, 5],\n",
       "        [2, 3, 8, 0]])"
      ]
     },
     "execution_count": 124,
     "metadata": {},
     "output_type": "execute_result"
    }
   ],
   "source": [
    "selected_columns = C[torch.arange(C.size(0)).unsqueeze(1), cols]\n",
    "selected_columns"
   ]
  },
  {
   "cell_type": "code",
   "execution_count": null,
   "metadata": {},
   "outputs": [
    {
     "data": {
      "text/plain": [
       "tensor([[3, 0],\n",
       "        [0, 0],\n",
       "        [4, 0],\n",
       "        [3, 0],\n",
       "        [2, 0]])"
      ]
     },
     "execution_count": 133,
     "metadata": {},
     "output_type": "execute_result"
    }
   ],
   "source": [
    "cols = torch.cat([(10-N.unsqueeze(1)), torch.tensor([10]).expand(5, 1)], dim=1)\n",
    "selected_columns = C[torch.arange(C.size(0)).unsqueeze(1), cols]\n",
    "selected_columns # ok mais à faire sur C non paddé (ie A ?)"
   ]
  },
  {
   "cell_type": "code",
   "execution_count": null,
   "metadata": {},
   "outputs": [
    {
     "data": {
      "text/plain": [
       "tensor(True)"
      ]
     },
     "execution_count": 139,
     "metadata": {},
     "output_type": "execute_result"
    }
   ],
   "source": [
    "N.max() > 3"
   ]
  },
  {
   "cell_type": "code",
   "execution_count": null,
   "metadata": {},
   "outputs": [
    {
     "data": {
      "text/plain": [
       "tensor([0, 0, 1, 1, 1, 0, 0, 1, 0, 1])"
      ]
     },
     "execution_count": 143,
     "metadata": {},
     "output_type": "execute_result"
    }
   ],
   "source": [
    "torch.randint(low=0, high=2, size=(10,))"
   ]
  },
  {
   "cell_type": "code",
   "execution_count": null,
   "metadata": {},
   "outputs": [
    {
     "data": {
      "text/plain": [
       "tensor([0., 0., 0., 0.])"
      ]
     },
     "execution_count": 145,
     "metadata": {},
     "output_type": "execute_result"
    }
   ],
   "source": [
    "torch.zeros(N.max())"
   ]
  },
  {
   "cell_type": "code",
   "execution_count": null,
   "metadata": {},
   "outputs": [],
   "source": []
  },
  {
   "cell_type": "code",
   "execution_count": null,
   "metadata": {},
   "outputs": [],
   "source": []
  },
  {
   "cell_type": "code",
   "execution_count": null,
   "metadata": {},
   "outputs": [
    {
     "data": {
      "text/plain": [
       "(tensor([[6, 7, 6, 9, 5, 8, 4, 4, 0, 7],\n",
       "         [9, 0, 0, 5, 1, 9, 1, 0, 4, 5],\n",
       "         [2, 2, 4, 0, 6, 4, 3, 0, 3, 1],\n",
       "         [5, 5, 7, 7, 2, 6, 3, 0, 7, 1],\n",
       "         [1, 7, 8, 4, 6, 6, 1, 0, 9, 5]]),\n",
       " tensor([2, 3, 3, 4, 2]))"
      ]
     },
     "execution_count": 14,
     "metadata": {},
     "output_type": "execute_result"
    }
   ],
   "source": [
    "hashes = torch.randint(low=0, high=10, size=(5, 10))\n",
    "N = torch.randint(low=2, high=5, size=(5,))\n",
    "\n",
    "hashes, N"
   ]
  },
  {
   "cell_type": "code",
   "execution_count": null,
   "metadata": {},
   "outputs": [
    {
     "data": {
      "text/plain": [
       "tensor([[4, 7],\n",
       "        [1, 5],\n",
       "        [3, 1],\n",
       "        [6, 1],\n",
       "        [0, 5]])"
      ]
     },
     "execution_count": 20,
     "metadata": {},
     "output_type": "execute_result"
    }
   ],
   "source": [
    "cols = torch.cat([(10-1-N.unsqueeze(1)), torch.tensor([10-1]).expand(5, 1)], dim=1)\n",
    "selected_columns = hashes[torch.arange(hashes.size(0)).unsqueeze(1), cols]\n",
    "selected_columns"
   ]
  },
  {
   "cell_type": "code",
   "execution_count": null,
   "metadata": {},
   "outputs": [],
   "source": []
  },
  {
   "cell_type": "code",
   "execution_count": 3,
   "metadata": {},
   "outputs": [],
   "source": [
    "import torch\n",
    "\n",
    "from hashhop.generator import HashHopGenerator\n",
    "from hashhop.hashhop import hh_to_string"
   ]
  },
  {
   "cell_type": "code",
   "execution_count": 4,
   "metadata": {},
   "outputs": [],
   "source": [
    "ds = HashHopGenerator(max_tokens=200, batch_size=16, hash_len=8, max_hops=4, cot=True)\n",
    "loader = torch.utils.data.DataLoader(ds, batch_size=None, num_workers=8, pin_memory=True, worker_init_fn=None)\n",
    "iter_ = iter(loader)"
   ]
  },
  {
   "cell_type": "code",
   "execution_count": 8,
   "metadata": {},
   "outputs": [],
   "source": [
    "x, y = next(iter_)"
   ]
  },
  {
   "cell_type": "code",
   "execution_count": 6,
   "metadata": {},
   "outputs": [
    {
     "name": "stdout",
     "output_type": "stream",
     "text": [
      "YENmsgBN=lBhZlMia\n",
      "XDvihkDw=YENmsgBN\n",
      "mYsRVbOE=dGlkZSdO\n",
      "vHfrywei=XDvihkDw\n",
      "McIIlOve=QaEgWpMr\n",
      "QaEgWpMr=mVXAStYM\n",
      "dGlkZSdO=McIIlOve\n",
      "lBhZlMia=sibNQYEY\n",
      "QaEgWpMr=mVXAStYM__________________________\n"
     ]
    }
   ],
   "source": [
    "print(hh_to_string(x[2]))"
   ]
  },
  {
   "cell_type": "code",
   "execution_count": 7,
   "metadata": {},
   "outputs": [
    {
     "name": "stdout",
     "output_type": "stream",
     "text": [
      "ENmsgBN=lBhZlMia\n",
      "XDvihkDw=YENmsgBN\n",
      "mYsRVbOE=dGlkZSdO\n",
      "vHfrywei=XDvihkDw\n",
      "McIIlOve=QaEgWpMr\n",
      "QaEgWpMr=mVXAStYM\n",
      "dGlkZSdO=McIIlOve\n",
      "lBhZlMia=sibNQYEY\n",
      "QaEgWpMr=mVXAStYM___________________________\n"
     ]
    }
   ],
   "source": [
    "print(hh_to_string(y[2]))"
   ]
  },
  {
   "cell_type": "code",
   "execution_count": null,
   "metadata": {},
   "outputs": [],
   "source": []
  }
 ],
 "metadata": {
  "kernelspec": {
   "display_name": "torch23",
   "language": "python",
   "name": "python3"
  },
  "language_info": {
   "codemirror_mode": {
    "name": "ipython",
    "version": 3
   },
   "file_extension": ".py",
   "mimetype": "text/x-python",
   "name": "python",
   "nbconvert_exporter": "python",
   "pygments_lexer": "ipython3",
   "version": "3.12.2"
  }
 },
 "nbformat": 4,
 "nbformat_minor": 2
}
